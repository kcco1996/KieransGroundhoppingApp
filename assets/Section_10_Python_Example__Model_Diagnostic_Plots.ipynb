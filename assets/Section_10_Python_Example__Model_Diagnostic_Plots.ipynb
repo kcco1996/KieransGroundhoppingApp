{
  "cells": [
    {
      "cell_type": "markdown",
      "source": [
        "#Section 10 Python example - model diagnostic plots exercise"
      ],
      "metadata": {
        "id": "a0bfdfCb9eVd"
      },
      "id": "a0bfdfCb9eVd"
    },
    {
      "cell_type": "markdown",
      "id": "1da3b297",
      "metadata": {
        "id": "1da3b297"
      },
      "source": [
        "Model diagnostic plots are essential tools in the evaluation of statistical models. They provide visual insights into how well a model has performed, help identify areas where the model may be lacking, and pinpoint underlying assumptions that may have been violated. This section demonstrates how to create model diagnostic plots in Python using matplotlib and statsmodels, focusing on a linear regression model. These plots will include residuals plots, Q-Q plots for checking normality of residuals, and leverage plots to identify influential observations. Then, it is over to you to use these techniques on two other datasets."
      ]
    },
    {
      "cell_type": "markdown",
      "id": "52cf3bdc",
      "metadata": {
        "id": "52cf3bdc"
      },
      "source": [
        "1. Setting Up the Environment:"
      ]
    },
    {
      "cell_type": "markdown",
      "id": "4456a4fe",
      "metadata": {
        "id": "4456a4fe"
      },
      "source": [
        "Ensure Python, matplotlib, statsmodels, and numpy are installed in your environment. If not, you can install them using pip:"
      ]
    },
    {
      "cell_type": "code",
      "execution_count": null,
      "id": "03ce5b03",
      "metadata": {
        "id": "03ce5b03"
      },
      "outputs": [],
      "source": [
        "pip install numpy matplotlib statsmodels"
      ]
    },
    {
      "cell_type": "markdown",
      "id": "1bee4654",
      "metadata": {
        "id": "1bee4654"
      },
      "source": [
        "2. Importing Required Libraries:"
      ]
    },
    {
      "cell_type": "markdown",
      "id": "92d54907",
      "metadata": {
        "id": "92d54907"
      },
      "source": [
        "Begin by importing necessary Python libraries for handling data, performing regression, and plotting:"
      ]
    },
    {
      "cell_type": "code",
      "execution_count": null,
      "id": "e77b1c0a",
      "metadata": {
        "id": "e77b1c0a"
      },
      "outputs": [],
      "source": [
        "import numpy as np\n",
        "import pandas as pd\n",
        "import matplotlib.pyplot as plt\n",
        "import statsmodels.api as sm\n",
        "from statsmodels.formula.api import ols"
      ]
    },
    {
      "cell_type": "markdown",
      "id": "e0e42bd0",
      "metadata": {
        "id": "e0e42bd0"
      },
      "source": [
        "3. Generating Synthetic Data:"
      ]
    },
    {
      "cell_type": "markdown",
      "id": "630bcfc2",
      "metadata": {
        "id": "630bcfc2"
      },
      "source": [
        "For this example, let’s create a synthetic dataset that represents a simple linear relationship with some noise:"
      ]
    },
    {
      "cell_type": "code",
      "execution_count": null,
      "id": "9b0ced84",
      "metadata": {
        "id": "9b0ced84"
      },
      "outputs": [],
      "source": [
        "# Set random seed for reproducibility\n",
        "np.random.seed(42)\n",
        "\n",
        "# Generate synthetic data\n",
        "x = np.linspace(10, 100, 100)\n",
        "y = 0.5 * x + np.random.normal(0, 10, size=len(x))\n",
        "\n",
        "# Create a DataFrame\n",
        "data = pd.DataFrame({'X': x, 'Y': y})"
      ]
    },
    {
      "cell_type": "markdown",
      "id": "db8a4440",
      "metadata": {
        "id": "db8a4440"
      },
      "source": [
        "4. Fitting a Linear Regression Model:"
      ]
    },
    {
      "cell_type": "markdown",
      "id": "eefe38d1",
      "metadata": {
        "id": "eefe38d1"
      },
      "source": [
        "Using statsmodels to fit a linear regression model:"
      ]
    },
    {
      "cell_type": "code",
      "execution_count": null,
      "id": "ecf6b8f5",
      "metadata": {
        "id": "ecf6b8f5"
      },
      "outputs": [],
      "source": [
        "# Fit model\n",
        "model = ols('Y ~ X', data=data).fit()"
      ]
    },
    {
      "cell_type": "markdown",
      "id": "ae0287f0",
      "metadata": {
        "id": "ae0287f0"
      },
      "source": [
        "5. Plotting Residuals:"
      ]
    },
    {
      "cell_type": "markdown",
      "id": "0cf25cb3",
      "metadata": {
        "id": "0cf25cb3"
      },
      "source": [
        "Residual plots are used to assess the homoscedasticity of residuals (constant variance across the range of values)."
      ]
    },
    {
      "cell_type": "code",
      "execution_count": null,
      "id": "5bc2abd8",
      "metadata": {
        "id": "5bc2abd8"
      },
      "outputs": [],
      "source": [
        "# Plot residuals\n",
        "plt.scatter(data['X'], model.resid)\n",
        "plt.axhline(y=0, color='red', linestyle='--')\n",
        "plt.xlabel('Independent Variable (X)')\n",
        "plt.ylabel('Residuals')\n",
        "plt.title('Residual Plot')\n",
        "plt.show()"
      ]
    },
    {
      "cell_type": "markdown",
      "id": "f0f72e0a",
      "metadata": {
        "id": "f0f72e0a"
      },
      "source": [
        "6. Normality Check with Q-Q Plot:"
      ]
    },
    {
      "cell_type": "markdown",
      "id": "25c51ce5",
      "metadata": {
        "id": "25c51ce5"
      },
      "source": [
        "A Q-Q plot shows if the residuals are normally distributed, which is an assumption of linear regression."
      ]
    },
    {
      "cell_type": "code",
      "execution_count": null,
      "id": "72ac9e3e",
      "metadata": {
        "id": "72ac9e3e"
      },
      "outputs": [],
      "source": [
        "# Q-Q plot for normality\n",
        "fig = sm.qqplot(model.resid, line='s')\n",
        "plt.title('Q-Q plot for residual normality check')\n",
        "plt.show()"
      ]
    },
    {
      "cell_type": "markdown",
      "id": "2f6b7ac2",
      "metadata": {
        "id": "2f6b7ac2"
      },
      "source": [
        "7. Leverage Plot:"
      ]
    },
    {
      "cell_type": "markdown",
      "id": "e7bd0618",
      "metadata": {
        "id": "e7bd0618"
      },
      "source": [
        "Leverage plots help identify influential cases that might have an unduly influence on the model fit."
      ]
    },
    {
      "cell_type": "code",
      "execution_count": null,
      "id": "9bc223a7",
      "metadata": {
        "id": "9bc223a7"
      },
      "outputs": [],
      "source": [
        "from statsmodels.graphics.regressionplots import influence_plot\n",
        "\n",
        "# Influence plot\n",
        "fig, ax = plt.subplots(figsize=(8,6))\n",
        "influence_plot(model, ax=ax)\n",
        "plt.title('Influence plot')\n",
        "plt.show()"
      ]
    },
    {
      "cell_type": "markdown",
      "id": "f399d85e",
      "metadata": {
        "id": "f399d85e"
      },
      "source": [
        "8. Conclusion:"
      ]
    },
    {
      "cell_type": "markdown",
      "id": "eacbf305",
      "metadata": {
        "id": "eacbf305"
      },
      "source": [
        "These diagnostic plots provide critical feedback on the adequacy of the regression model. The residual plot can reveal patterns indicating non-linearity, heteroscedasticity, or outliers. The Q-Q plot checks the assumption that residuals are normally distributed, which is crucial for the validity of many statistical tests. Finally, the leverage plot helps identify influential data points that could disproportionately affect the regression line."
      ]
    },
    {
      "cell_type": "markdown",
      "id": "897f929c",
      "metadata": {
        "id": "897f929c"
      },
      "source": [
        "By incorporating these diagnostics into the modeling process, data scientists can better understand their models and make informed decisions about potential modifications or whether additional or alternative analysis is necessary. This enhances the reliability and robustness of their findings, ensuring that conclusions drawn from the data are both valid and actionable."
      ]
    },
    {
      "cell_type": "markdown",
      "id": "a066ba3d",
      "metadata": {
        "id": "a066ba3d"
      },
      "source": [
        "# Chapter Exercise"
      ]
    },
    {
      "cell_type": "markdown",
      "id": "4abc9c4e",
      "metadata": {
        "id": "4abc9c4e"
      },
      "source": [
        "Now we know how to evaluate models, and how to use diagnostic plots, revisit some of the earlier datasets we have looked at. Can you the housing.csv and the customer_purchases.csv datasets in the same way."
      ]
    }
  ],
  "metadata": {
    "colab": {
      "provenance": []
    },
    "language_info": {
      "name": "python"
    },
    "kernelspec": {
      "name": "python3",
      "display_name": "Python 3"
    }
  },
  "nbformat": 4,
  "nbformat_minor": 5
}